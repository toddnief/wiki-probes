{
 "cells": [
  {
   "cell_type": "code",
   "execution_count": 17,
   "metadata": {},
   "outputs": [
    {
     "name": "stdout",
     "output_type": "stream",
     "text": [
      "The autoreload extension is already loaded. To reload it, use:\n",
      "  %reload_ext autoreload\n"
     ]
    }
   ],
   "source": [
    "%load_ext autoreload\n",
    "%autoreload 2"
   ]
  },
  {
   "cell_type": "code",
   "execution_count": 18,
   "metadata": {},
   "outputs": [],
   "source": [
    "# handle gpu leakage issue on DSI cluster\n",
    "# ideally we shouldn't have to do this but leaving it for now in case the issue pops up again\n",
    "import os\n",
    "os.environ[\"CUDA_VISIBLE_DEVICES\"] = \"0\""
   ]
  },
  {
   "cell_type": "code",
   "execution_count": 19,
   "metadata": {},
   "outputs": [],
   "source": [
    "import torch\n",
    "import transformers\n",
    "from transformers import AutoModelForCausalLM, AutoTokenizer\n",
    "\n",
    "import scripts"
   ]
  },
  {
   "cell_type": "code",
   "execution_count": 20,
   "metadata": {},
   "outputs": [
    {
     "data": {
      "text/plain": [
       "1"
      ]
     },
     "execution_count": 20,
     "metadata": {},
     "output_type": "execute_result"
    }
   ],
   "source": [
    "# Confirm GPUs are working properly and set default device explicitly\n",
    "device = \"cuda:0\"\n",
    "torch.cuda.device_count()"
   ]
  },
  {
   "cell_type": "code",
   "execution_count": 4,
   "metadata": {},
   "outputs": [],
   "source": [
    "MODEL_DIR = \"/net/projects/veitch/LLMs/\"\n",
    "MODEL = \"llama1-based-models/alpaca-7b\" # or llama2-based-models/llama2-hf/Llama-2-7b-chat-hf\n",
    "MODEL_PATH = MODEL_DIR + MODEL"
   ]
  },
  {
   "cell_type": "code",
   "execution_count": 5,
   "metadata": {},
   "outputs": [],
   "source": [
    "# TODO: Clean this up\n",
    "\n",
    "# This cell is for doing ROME edits\n",
    "# ROME model and tokenizer\n",
    "# MODEL_NAME = \"gpt2-xl\"\n",
    "# model = AutoModelForCausalLM.from_pretrained(MODEL_NAME).to(device)\n",
    "# tokenizer = AutoTokenizer.from_pretrained(MODEL_NAME)\n",
    "# tokenizer.pad_token = tokenizer.eos_token"
   ]
  },
  {
   "cell_type": "code",
   "execution_count": 6,
   "metadata": {},
   "outputs": [
    {
     "name": "stderr",
     "output_type": "stream",
     "text": [
      "You are using the legacy behaviour of the <class 'transformers.models.llama.tokenization_llama.LlamaTokenizer'>. This means that tokens that come after special tokens will not be properly handled. We recommend you to read the related pull request available at https://github.com/huggingface/transformers/pull/24565\n",
      "normalizer.cc(51) LOG(INFO) precompiled_charsmap is empty. use identity normalization.\n"
     ]
    },
    {
     "data": {
      "application/vnd.jupyter.widget-view+json": {
       "model_id": "d9272eafda9847e4bf25bae404e9e2d0",
       "version_major": 2,
       "version_minor": 0
      },
      "text/plain": [
       "Loading checkpoint shards:   0%|          | 0/3 [00:00<?, ?it/s]"
      ]
     },
     "metadata": {},
     "output_type": "display_data"
    }
   ],
   "source": [
    "tokenizer = transformers.LlamaTokenizer.from_pretrained(MODEL_PATH)\n",
    "model = transformers.LlamaForCausalLM.from_pretrained(MODEL_PATH, low_cpu_mem_usage=True, torch_dtype=torch.float16, device_map=\"auto\").to(device)"
   ]
  },
  {
   "cell_type": "code",
   "execution_count": 30,
   "metadata": {},
   "outputs": [],
   "source": [
    "LABELS = \"title\" # choices are \"title\" and \"categories\"\n",
    "DATA_FOLDER = \"data/\"\n",
    "TRAIN_DATA = DATA_FOLDER + \"train-12-articles.csv\"\n",
    "VAL_DATA = DATA_FOLDER + \"val-12-articles.csv\"\n",
    "PROBE_TYPE = \"linear\" # choices are \"linear\" and \"mlp\"\n",
    "LAYER = -1\n",
    "EPOCHS = 200\n",
    "BATCH_SIZE = 4\n",
    "AGGREGATION = \"max\" # choices are \"max\" or \"mean\"\n",
    "SMOKE_TEST = False # TODO: this doesn't work yet\n",
    "PRINT_PROGRESS = False"
   ]
  },
  {
   "cell_type": "code",
   "execution_count": 31,
   "metadata": {},
   "outputs": [
    {
     "name": "stdout",
     "output_type": "stream",
     "text": [
      "[Training][5] loss: 1.871\n",
      "[Validation][5] loss: 0.216\n",
      "[Validation]5 accuracy: 0.806\n",
      "[Training][10] loss: 1.324\n",
      "[Validation][10] loss: 0.127\n",
      "[Validation]10 accuracy: 0.861\n",
      "[Training][15] loss: 0.216\n",
      "[Validation][15] loss: 0.144\n",
      "[Validation]15 accuracy: 0.833\n",
      "[Training][20] loss: 0.000\n",
      "[Validation][20] loss: 0.189\n",
      "[Validation]20 accuracy: 0.889\n",
      "[Training][25] loss: 0.000\n",
      "[Validation][25] loss: 0.191\n",
      "[Validation]25 accuracy: 0.889\n",
      "[Training][30] loss: 0.000\n",
      "[Validation][30] loss: 0.178\n",
      "[Validation]30 accuracy: 0.917\n",
      "[Training][35] loss: 0.000\n",
      "[Validation][35] loss: 0.164\n",
      "[Validation]35 accuracy: 0.917\n",
      "[Training][40] loss: 0.000\n",
      "[Validation][40] loss: 0.148\n",
      "[Validation]40 accuracy: 0.917\n",
      "[Training][45] loss: 0.000\n",
      "[Validation][45] loss: 0.133\n",
      "[Validation]45 accuracy: 0.917\n",
      "[Training][50] loss: 0.000\n",
      "[Validation][50] loss: 0.117\n",
      "[Validation]50 accuracy: 0.917\n",
      "[Training][55] loss: 0.000\n",
      "[Validation][55] loss: 0.100\n",
      "[Validation]55 accuracy: 0.917\n",
      "[Training][60] loss: 0.000\n",
      "[Validation][60] loss: 0.107\n",
      "[Validation]60 accuracy: 0.917\n",
      "[Training][65] loss: 0.000\n",
      "[Validation][65] loss: 0.102\n",
      "[Validation]65 accuracy: 0.917\n",
      "[Training][70] loss: 0.101\n",
      "[Validation][70] loss: 1.011\n",
      "[Validation]70 accuracy: 0.639\n",
      "[Training][75] loss: 0.000\n",
      "[Validation][75] loss: 0.188\n",
      "[Validation]75 accuracy: 0.917\n",
      "[Training][80] loss: 0.000\n",
      "[Validation][80] loss: 0.164\n",
      "[Validation]80 accuracy: 0.917\n",
      "[Training][85] loss: 0.000\n",
      "[Validation][85] loss: 0.145\n",
      "[Validation]85 accuracy: 0.917\n",
      "[Training][90] loss: 0.000\n",
      "[Validation][90] loss: 0.130\n",
      "[Validation]90 accuracy: 0.917\n",
      "[Training][95] loss: 0.000\n",
      "[Validation][95] loss: 0.113\n",
      "[Validation]95 accuracy: 0.917\n",
      "[Training][100] loss: 0.000\n",
      "[Validation][100] loss: 0.099\n",
      "[Validation]100 accuracy: 0.917\n",
      "[Training][105] loss: 0.000\n",
      "[Validation][105] loss: 0.086\n",
      "[Validation]105 accuracy: 0.917\n",
      "[Training][110] loss: 0.000\n",
      "[Validation][110] loss: 0.077\n",
      "[Validation]110 accuracy: 0.944\n",
      "[Training][115] loss: 0.000\n",
      "[Validation][115] loss: 0.067\n",
      "[Validation]115 accuracy: 0.944\n",
      "[Training][120] loss: 0.000\n",
      "[Validation][120] loss: 0.061\n",
      "[Validation]120 accuracy: 0.944\n",
      "[Training][125] loss: 0.000\n",
      "[Validation][125] loss: 0.062\n",
      "[Validation]125 accuracy: 0.944\n",
      "[Training][130] loss: 0.000\n",
      "[Validation][130] loss: 0.074\n",
      "[Validation]130 accuracy: 0.944\n",
      "[Training][135] loss: 0.376\n",
      "[Validation][135] loss: 0.000\n",
      "[Validation]135 accuracy: 1.000\n",
      "[Training][140] loss: 0.000\n",
      "[Validation][140] loss: 0.057\n",
      "[Validation]140 accuracy: 0.944\n",
      "[Training][145] loss: 0.000\n",
      "[Validation][145] loss: 0.071\n",
      "[Validation]145 accuracy: 0.944\n",
      "[Training][150] loss: 0.000\n",
      "[Validation][150] loss: 0.085\n",
      "[Validation]150 accuracy: 0.944\n",
      "[Training][155] loss: 0.000\n",
      "[Validation][155] loss: 0.099\n",
      "[Validation]155 accuracy: 0.944\n",
      "[Training][160] loss: 0.000\n",
      "[Validation][160] loss: 0.113\n",
      "[Validation]160 accuracy: 0.917\n",
      "[Training][165] loss: 0.000\n",
      "[Validation][165] loss: 0.127\n",
      "[Validation]165 accuracy: 0.917\n",
      "[Training][170] loss: 0.000\n",
      "[Validation][170] loss: 0.136\n",
      "[Validation]170 accuracy: 0.917\n",
      "[Training][175] loss: 0.000\n",
      "[Validation][175] loss: 0.143\n",
      "[Validation]175 accuracy: 0.917\n",
      "[Training][180] loss: 0.000\n",
      "[Validation][180] loss: 0.139\n",
      "[Validation]180 accuracy: 0.917\n",
      "[Training][185] loss: 0.000\n",
      "[Validation][185] loss: 0.096\n",
      "[Validation]185 accuracy: 0.944\n",
      "[Training][190] loss: 0.000\n",
      "[Validation][190] loss: 0.114\n",
      "[Validation]190 accuracy: 0.917\n",
      "[Training][195] loss: 0.000\n",
      "[Validation][195] loss: 0.119\n",
      "[Validation]195 accuracy: 0.917\n",
      "text:  members of a group of predominantly aquatic photosynthetic organisms of the kingdom Protista\n",
      "labels:  Algae\n",
      "predicted labels:  Algae\n",
      "text:  a form of team game played in North America with an oval ball on a field marked out as a gridiron\n",
      "labels:  American football\n",
      "predicted labels:  American football\n",
      "text:  the largest state in the union and; one-fifth the size of the lower 48 states\n",
      "labels:  Alaska\n",
      "predicted labels:  Alaska\n",
      "text:  a game played between two teams of five players in which goals are scored by throwing a ball through a netted hoop fixed above each end of the court\n",
      "labels:  Basketball\n",
      "predicted labels:  Basketball\n",
      "text:  Persons or entities such as corporations that experience an unsuccessful outcome in a trial-level or other lower courts may file an appeal with an appellate court to have the decision reviewed\n",
      "labels:  Appellate court\n",
      "predicted labels:  Appellate court\n",
      "text:  the science or practice of farming, including cultivation of the soil for the growing of crops and the rearing of animals to provide food, wool, and other products.\n",
      "labels:  Agriculture\n",
      "predicted labels:  Agriculture\n",
      "text:  one of two US states not bordered by another state; Hawaii is the other.\n",
      "labels:  Alaska\n",
      "predicted labels:  Alaska\n",
      "text:  a simple, nonflowering, and typically aquatic plant of a large group that includes the seaweeds and many single-celled forms. Algae contain chlorophyll but lack true stems, roots, leaves, and vascular tissue.\n",
      "labels:  Algae\n",
      "predicted labels:  Algae\n",
      "text:  a form of speculative thought that, among other aims, tried to transform base metals such as lead or copper into silver or gold and to discover a cure for disease and a way of extending life\n",
      "labels:  Alchemy\n",
      "predicted labels:  Alchemy\n",
      "text:  the study of human societies and cultures and their development\n",
      "labels:  Anthropology\n",
      "predicted labels:  Anthropology\n",
      "text:  the organization of society on the basis of voluntary cooperation, without political institutions or hierarchical government\n",
      "labels:  Anarchism\n",
      "predicted labels:  Anarchism\n",
      "text:  review the procedures and the decisions in the trial court to make sure that the proceedings were fair and that the proper law was applied correctly\n",
      "labels:  Appellate court\n",
      "predicted labels:  Appellate court\n",
      "text:  studies celestial objects and phenomena in the universe. They explore and investigate various aspects of the cosmos, including stars, planets, galaxies, asteroids, comets, and other celestial bodies\n",
      "labels:  Astronomer\n",
      "predicted labels:  Astronomer\n",
      "text:  the technique of photographing successive drawings or positions of puppets or models to create an illusion of movement when the movie is shown as a sequence.\n",
      "labels:  Animation\n",
      "predicted labels:  Animation\n",
      "text:  a utopian society of individuals who enjoy complete freedom without government\n",
      "labels:  Anarchism\n",
      "predicted labels:  Anarchism\n",
      "text:  the part of the American judicial system that is responsible for hearing and reviewing appeals from legal cases that have already been heard in a trial-level or other lower court\n",
      "labels:  Appellate court\n",
      "predicted labels:  Appellate court\n",
      "text:  an American game that is played between two teams of 11 players each and in which the ball is moved forward by running or passing\n",
      "labels:  American football\n",
      "predicted labels:  Basketball\n",
      "text:  small vertebrates that need water, or a moist environment, to survive. The species in this group include frogs, toads, salamanders, and newts. All can breathe and absorb water through their very thin skin.\n",
      "labels:  Amphibian\n",
      "predicted labels:  Amphibian\n",
      "text:  or farming, is the simplification of nature's food webs and the rechanneling of energy for human planting and animal consumption\n",
      "labels:  Agriculture\n",
      "predicted labels:  Agriculture\n",
      "text:  cold-blooded vertebrates (vertebrates have backbones) that don’t have scales. They live part of their lives in water and part on land.\n",
      "labels:  Amphibian\n",
      "predicted labels:  Amphibian\n",
      "text:  the broad term for everything that goes into growing crops and raising animals, to provide food and materials that people can use and enjoy\n",
      "labels:  Agriculture\n",
      "predicted labels:  Agriculture\n",
      "text:  a medieval chemical science and speculative philosophy aiming to achieve the transmutation of the base metals into gold, the discovery of a universal cure for disease, and the discovery of a means of indefinitely prolonging life\n",
      "labels:  Alchemy\n",
      "predicted labels:  Alchemy\n",
      "text:  the study of human biological and physiological characteristics and their evolution\n",
      "labels:  Anthropology\n",
      "predicted labels:  Anthropology\n",
      "text:  the medieval forerunner of chemistry, based on the supposed transformation of matter. It was concerned particularly with attempts to convert base metals into gold or to find a universal elixir.\n",
      "labels:  Alchemy\n",
      "predicted labels:  Alchemy\n",
      "text:  a cold-blooded vertebrate animal of a class that comprises the frogs, toads, newts, and salamanders. They are distinguished by having an aquatic gill-breathing larval stage followed (typically) by a terrestrial lung-breathing adult stage.\n",
      "labels:  Amphibian\n",
      "predicted labels:  Amphibian\n",
      "text:  theology dealing with the origin, nature, and destiny of human beings\n",
      "labels:  Anthropology\n",
      "predicted labels:  Anthropology\n",
      "text:  a game that is played by two teams of eleven players using an oval-shaped ball. Players try to score points by passing or carrying the ball to their opponents' end of the field, or by kicking it over a bar fixed between two posts.\n",
      "labels:  American football\n",
      "predicted labels:  Basketball\n",
      "text:  the manipulation of electronic images by means of a computer in order to create moving images.\n",
      "labels:  Animation\n",
      "predicted labels:  Animation\n",
      "text:  a diverse group of aquatic organisms that have the ability to conduct photosynthesis\n",
      "labels:  Algae\n",
      "predicted labels:  Algae\n",
      "text:  the largest state owned by the United States of America and is part of the beautiful North American continent.\n",
      "labels:  Alaska\n",
      "predicted labels:  Alaska\n",
      "text:  a state of disorder due to absence or nonrecognition of authority or other controlling systems\n",
      "labels:  Anarchism\n",
      "predicted labels:  Anarchism\n",
      "text:  The objective of the game is to throw (shoot) a ball through the top of a circular band (referred to as the rim) that has cord hanging around its circumference (with both being named the basket), which is itself attached to a backboard\n",
      "labels:  Basketball\n",
      "predicted labels:  Basketball\n",
      "text:  They use telescopes, both on the ground and in space, to observe and collect data from distant objects. They analyze the light emitted or reflected by celestial bodies to determine their properties, such as their composition, temperature, distance, and motion\n",
      "labels:  Astronomer\n",
      "predicted labels:  Astronomer\n",
      "text:  the preparation of animated cartoons\n",
      "labels:  Animation\n",
      "predicted labels:  Animation\n",
      "text:  scientists who study the Universe and the objects within it\n",
      "labels:  Astronomer\n",
      "predicted labels:  Astronomer\n",
      "text:  a usually indoor court game between two teams of usually five players each who score by tossing an inflated ball through a raised goal\n",
      "labels:  Basketball\n",
      "predicted labels:  Basketball\n",
      "[Training][200] loss: 0.000\n",
      "[Validation][200] loss: 0.080\n",
      "[Validation]200 accuracy: 0.944\n"
     ]
    },
    {
     "data": {
      "text/plain": [
       "Linear(\n",
       "  (fc1): Linear(in_features=4096, out_features=12, bias=True)\n",
       ")"
      ]
     },
     "execution_count": 31,
     "metadata": {},
     "output_type": "execute_result"
    }
   ],
   "source": [
    "scripts.train_handler(model, tokenizer, device, TRAIN_DATA, VAL_DATA, probe_type=PROBE_TYPE, labels=LABELS, layer=LAYER, aggregation=AGGREGATION, batch_size=BATCH_SIZE, epochs=EPOCHS, smoke_test=SMOKE_TEST, print_progress=PRINT_PROGRESS)"
   ]
  },
  {
   "cell_type": "code",
   "execution_count": null,
   "metadata": {},
   "outputs": [],
   "source": []
  }
 ],
 "metadata": {
  "kernelspec": {
   "display_name": "wiki-probes",
   "language": "python",
   "name": "python3"
  },
  "language_info": {
   "codemirror_mode": {
    "name": "ipython",
    "version": 3
   },
   "file_extension": ".py",
   "mimetype": "text/x-python",
   "name": "python",
   "nbconvert_exporter": "python",
   "pygments_lexer": "ipython3",
   "version": "3.8.18"
  }
 },
 "nbformat": 4,
 "nbformat_minor": 2
}
